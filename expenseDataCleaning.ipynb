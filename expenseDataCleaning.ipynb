{
 "cells": [
  {
   "cell_type": "code",
   "execution_count": 1,
   "id": "536301d8-d72e-4eef-8805-b47db334df09",
   "metadata": {},
   "outputs": [],
   "source": [
    "import pandas as pd"
   ]
  },
  {
   "cell_type": "code",
   "execution_count": 4,
   "id": "46c79f54-7c7f-4f67-a88a-dc0d11dd9b6e",
   "metadata": {},
   "outputs": [],
   "source": [
    "expenseFilePath = 'productionExpensesRaw.xlsx'\n",
    "expenseDF = pd.read_excel(expenseFilePath, sheet_name='United States', header=3)"
   ]
  },
  {
   "cell_type": "code",
   "execution_count": 7,
   "id": "3d6a29fa-143c-400a-bdbd-be007bf71750",
   "metadata": {},
   "outputs": [],
   "source": [
    "# Clean up column headers\n",
    "expenseDF.columns = expenseDF.columns.map(str)\n",
    "expenseDF.rename(columns={expenseDF.columns[0]: 'cat'}, inplace=True)\n",
    "expenseDF.drop([0, 1, 2], axis=0, inplace=True)"
   ]
  },
  {
   "cell_type": "code",
   "execution_count": 10,
   "id": "2e90c724-9a21-4ec6-962d-aa72b0dc69b2",
   "metadata": {},
   "outputs": [],
   "source": [
    "# Reset index to treat 'cat' as a regular column\n",
    "expenseDF.reset_index(drop=True, inplace=True)\n",
    "expenseDF.columns = expenseDF.columns.map(lambda x: x[:4]) # only take the first 4 chars\n",
    "# Remove footnotes (e.g., 1/) from category names\n",
    "expenseDF['cat'] = expenseDF['cat'].astype(str).str.replace(r'\\d+/', '', regex=True).str.strip().str.lower()"
   ]
  },
  {
   "cell_type": "code",
   "execution_count": 17,
   "id": "01a1d920-cd41-4bc5-8dfb-417ef98d18c7",
   "metadata": {},
   "outputs": [],
   "source": [
    "# Track parent category\n",
    "parent_cat = None\n",
    "cleaned_rows = []\n",
    "\n",
    "for _, row in expenseDF.iterrows():\n",
    "    cat = row['cat']\n",
    "    data = row.drop('cat')\n",
    "\n",
    "    # If entire data row is NaN, it's a parent category header\n",
    "    if data.isna().all():\n",
    "        parent_cat = cat\n",
    "    else:\n",
    "        full_cat = f\"{parent_cat} > {cat}\" if parent_cat else cat\n",
    "        cleaned_rows.append({'cat': full_cat, **data})\n",
    "        \n",
    "# Recreate cleaned DataFrame\n",
    "cleaned_expenseDF = pd.DataFrame(cleaned_rows)"
   ]
  },
  {
   "cell_type": "code",
   "execution_count": 20,
   "id": "a1ba2ccd-f7ed-4e59-a23c-43222043dbbb",
   "metadata": {},
   "outputs": [
    {
     "name": "stdout",
     "output_type": "stream",
     "text": [
      "                                                cat          2016  \\\n",
      "0                      including operator dwellings  349938198000   \n",
      "1                      excluding operator dwellings  345623632000   \n",
      "2      cash expenses > excluding operator dwellings  303783582000   \n",
      "3   cash expenses > excluding net rent to landlords  282272137000   \n",
      "4  current operating > including operator dwellings  256051343000   \n",
      "\n",
      "           2017          2018          2019          2020          2021  \\\n",
      "0  349660665000  343095241000  347817817000  357238237000  371910340000   \n",
      "1  345863730000  339374361000  344024660000  353974743000  368811812000   \n",
      "2  311887235000  311369803000  317313945000  326478643000  345403052000   \n",
      "3  292702830000  294655691000  299280289000  307254818000  325819001000   \n",
      "4  264285840000  264219887000  268132721000  276155461000  294338410000   \n",
      "\n",
      "           2022          2023          2024          2025  \n",
      "0  435750661000  461884765000  452870646000  450372554000  \n",
      "1  431953504000  458149327000  449475320000  446924315000  \n",
      "2  399889697000  426140982000  418941127000  415700094000  \n",
      "3  385513474000  409444957000  402664102000  398419921000  \n",
      "4  349177487000  368105687000  358956473000  353896459000  \n"
     ]
    }
   ],
   "source": [
    "# Convert all data columns to numeric and multiply by 1000\n",
    "for col in cleaned_expenseDF.columns[1:]:\n",
    "    cleaned_expenseDF[col] = pd.to_numeric(cleaned_expenseDF[col], errors='coerce') * 1000\n",
    "\n",
    "print(cleaned_expenseDF.head(5))"
   ]
  },
  {
   "cell_type": "code",
   "execution_count": 31,
   "id": "e84314d6-4155-4498-b178-c500e8a21d1c",
   "metadata": {},
   "outputs": [],
   "source": [
    "# Save cleaned data\n",
    "outputFile = 'cleanProductionExpensesData.xlsx'\n",
    "with pd.ExcelWriter(outputFile, engine='openpyxl') as writer:\n",
    "    cleaned_expenseDF.to_excel(writer, index=False, sheet_name='Cleaned Data')\n"
   ]
  },
  {
   "cell_type": "code",
   "execution_count": null,
   "id": "28dccdb8-7d96-402d-affb-e51e356dfe73",
   "metadata": {},
   "outputs": [],
   "source": []
  }
 ],
 "metadata": {
  "kernelspec": {
   "display_name": "Python [conda env:base]",
   "language": "python",
   "name": "conda-base-py"
  },
  "language_info": {
   "codemirror_mode": {
    "name": "ipython",
    "version": 3
   },
   "file_extension": ".py",
   "mimetype": "text/x-python",
   "name": "python",
   "nbconvert_exporter": "python",
   "pygments_lexer": "ipython3",
   "version": "3.12.7"
  }
 },
 "nbformat": 4,
 "nbformat_minor": 5
}
