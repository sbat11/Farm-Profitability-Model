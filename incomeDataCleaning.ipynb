{
 "cells": [
  {
   "cell_type": "code",
   "execution_count": 2,
   "id": "f979a5ad-452f-41c7-96d2-f3732ab51ae6",
   "metadata": {},
   "outputs": [],
   "source": [
    "import pandas as pd\n",
    "import numpy as np"
   ]
  },
  {
   "cell_type": "markdown",
   "id": "c94a96e8-3050-4e91-bfa6-61b6ce196110",
   "metadata": {},
   "source": [
    "\n",
    "INSTRUCTIONS:\n",
    "    1. make sure the IncomeStatement.xlsx is in the same folder as this file\n",
    "    2. The purpose of dataCleaning.py is to clean up the raw IncomeStatement.xlsx\n",
    "    3. The cleanIncomeData.xlsx is supposed to be the final data we use for the project \n",
    "    4. The indexing has been set up so that you can use .loc[year][typeOfIncome] to get the value \n",
    "    5. Use incomeDF.loc['gross cash income']['2016'] to get 399353213\n",
    "    6. For numerical indexing --> incomeDF.iloc[row_idx, col_idx])\n",
    "    7. NOTE) the numerical indexing starts from [Row 0: gross cash income], and Row 0: 2016\n",
    "    8. SO incomeDF.iloc[0][0] gets 399353213"
   ]
  },
  {
   "cell_type": "code",
   "execution_count": 7,
   "id": "a046f7d0-2989-4502-aa0d-76b1ad743ca9",
   "metadata": {},
   "outputs": [],
   "source": [
    "# Load the Excel file, adjusting 'skiprows' to ignore extra headers\n",
    "incomeDF = pd.read_excel(\"IncomeStatement.xlsx\", sheet_name=\"United States\", header=1)\n",
    "\n",
    "# clean the columns and rows \n",
    "incomeDF.columns = incomeDF.columns.map(str)  # ensure every column is a string\n",
    "incomeDF.columns = incomeDF.columns.map(lambda x: x[:4]) # only take the first 4 chars\n",
    "incomeDF.rename(columns={'United States': 'Category'}, inplace=True)\n",
    "\n",
    "# IMPORTANT!!!!!) Raw Columns - ['United States', 2016, 2017, 2018, 2019, 2020, 2021, 2022, 2023, '2024F', '2025F']\n",
    "#                 Final Accesible columns - ['Unit', '2016', '2017', '2018', '2019', '2020', '2021', '2022', '2023', '2024', '2025']\n",
    "\n",
    "# Clean up the column names and row indices\n",
    "incomeDF.rename(columns={'Unit': 'cat'}, inplace=True)\n",
    "incomeDF.drop([0, 1], axis=0, inplace=True)\n",
    "incomeDF = incomeDF.reset_index(drop=True)"
   ]
  },
  {
   "cell_type": "code",
   "execution_count": 10,
   "id": "1f6f1f6d-4ea5-4aa1-943d-c3e4d2f6144e",
   "metadata": {},
   "outputs": [
    {
     "name": "stdout",
     "output_type": "stream",
     "text": [
      "                                       2016          2017          2018  \\\n",
      "cat                                                                       \n",
      "gross cash income              399353213000  413155591000  414846669000   \n",
      "all commodity receipts         358481924000  370436722000  372070460000   \n",
      "crop receipts                  195751261000  194877004000  195977424000   \n",
      "animals and products receipts  162730663000  175559718000  176093036000   \n",
      "cash farm-related income        27891612000   31187258000   29107198000   \n",
      "\n",
      "                                       2019          2020          2021  \\\n",
      "cat                                                                       \n",
      "gross cash income              426473417000  447356024000  500618160000   \n",
      "all commodity receipts         369316702000  367498927000  442416992000   \n",
      "crop receipts                  193755281000  202491297000  246031209000   \n",
      "animals and products receipts  175561421000  165007630000  196385783000   \n",
      "cash farm-related income        34709515000   34269949000   32245632000   \n",
      "\n",
      "                                       2022          2023          2024  \\\n",
      "cat                                                                       \n",
      "gross cash income              609965746000  582905101000  578152606000   \n",
      "all commodity receipts         542610690000  516945817000  516802531000   \n",
      "crop receipts                  282777161000  267352370000  245170489000   \n",
      "animals and products receipts  259833528000  249593448000  271632042000   \n",
      "cash farm-related income        51793609000   53694514000   52017020000   \n",
      "\n",
      "                                       2025  \n",
      "cat                                          \n",
      "gross cash income              609387986000  \n",
      "all commodity receipts         515033759000  \n",
      "crop receipts                  239599983000  \n",
      "animals and products receipts  275433776000  \n",
      "cash farm-related income        51936466000  \n"
     ]
    }
   ],
   "source": [
    "# Set 'cat' as the index\n",
    "incomeDF.set_index('cat', inplace=True)\n",
    "\n",
    "# Remove footnote markers like '1/' from category names\n",
    "incomeDF.index = incomeDF.index.str.replace(r'\\d+/', '', regex=True).str.strip()\n",
    "\n",
    "# Convert index to lowercase\n",
    "incomeDF.index = incomeDF.index.astype(str).str.lower()\n",
    "\n",
    "# Drop NaN rows\n",
    "incomeDF.dropna(axis=0, how=\"all\", inplace=True)  # Drops rows where all values are NaN\n",
    "\n",
    "# Cut off the dataframe at row 31 (keeping only the first 31 rows)\n",
    "incomeDF = incomeDF.iloc[:31, :]\n",
    "\n",
    "# multiply each value by 1000 as they are in 1000s of dollars\n",
    "incomeDF.iloc[:, :] = incomeDF.iloc[:, :].apply(pd.to_numeric, errors='coerce') * 1000\n",
    "\n",
    "print(incomeDF.head(5))  # Look at the first 5 rows"
   ]
  },
  {
   "cell_type": "code",
   "execution_count": 13,
   "id": "49792af2-3d9a-4a60-b61b-f84e907c2764",
   "metadata": {},
   "outputs": [],
   "source": [
    "# Save cleaned data, keeping the index to maintain category labels\n",
    "outputFile = 'cleanIncomeData.xlsx'\n",
    "with pd.ExcelWriter(outputFile, engine='openpyxl') as writer:\n",
    "    incomeDF.to_excel(writer, index=True, sheet_name='Cleaned Data')  # <-- Keep index=True\n"
   ]
  },
  {
   "cell_type": "code",
   "execution_count": null,
   "id": "7c012c62-9cca-4fe8-8f1b-fe40964af252",
   "metadata": {},
   "outputs": [],
   "source": []
  }
 ],
 "metadata": {
  "kernelspec": {
   "display_name": "Python [conda env:base]",
   "language": "python",
   "name": "conda-base-py"
  },
  "language_info": {
   "codemirror_mode": {
    "name": "ipython",
    "version": 3
   },
   "file_extension": ".py",
   "mimetype": "text/x-python",
   "name": "python",
   "nbconvert_exporter": "python",
   "pygments_lexer": "ipython3",
   "version": "3.12.7"
  }
 },
 "nbformat": 4,
 "nbformat_minor": 5
}
